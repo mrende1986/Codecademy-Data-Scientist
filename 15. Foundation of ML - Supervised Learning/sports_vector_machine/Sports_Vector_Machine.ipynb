{
 "cells": [
  {
   "cell_type": "code",
   "execution_count": 4,
   "metadata": {},
   "outputs": [],
   "source": [
    "import codecademylib3_seaborn\n",
    "import matplotlib.pyplot as plt\n",
    "from sklearn.svm import SVC\n",
    "from sklearn.model_selection import train_test_split\n",
    "from svm_visualization import draw_boundary\n",
    "from players import aaron_judge, jose_altuve, david_ortiz\n",
    "\n",
    "fig, ax = plt.subplots()\n",
    "\n",
    "print(aaron_judge.columns)\n",
    "print(aaron_judge.description.unique())\n",
    "print(aaron_judge.type.unique())\n",
    "\n",
    "aaron_judge['type'] = aaron_judge['type'].map({'S':1,'B':0})\n",
    "print(aaron_judge.type)\n",
    "\n",
    "print(aaron_judge.plate_x)\n",
    "\n",
    "aaron_judge = aaron_judge.dropna(subset = ['plate_x','plate_z','type'])\n",
    "\n",
    "plt.scatter(aaron_judge.plate_x,aaron_judge.plate_z, c=aaron_judge.type,cmap=plt.cm.coolwarm,alpha = 0.25)\n",
    "\n",
    "training_set, validation_set = train_test_split(aaron_judge, random_state=1)\n",
    "classifier = SVC(kernel = 'rbf', gamma = 100, C=100)\n",
    "classifier.fit(training_set[['plate_x','plate_z']],training_set.type)\n",
    "draw_boundary(ax,classifier)\n",
    "plt.show()\n",
    "\n",
    "print(classifier.score(validation_set[['plate_x','plate_z']],validation_set.type))"
   ]
  }
 ],
 "metadata": {
  "kernelspec": {
   "display_name": "Python 3",
   "language": "python",
   "name": "python3"
  },
  "language_info": {
   "codemirror_mode": {
    "name": "ipython",
    "version": 3
   },
   "file_extension": ".py",
   "mimetype": "text/x-python",
   "name": "python",
   "nbconvert_exporter": "python",
   "pygments_lexer": "ipython3",
   "version": "3.8.5"
  }
 },
 "nbformat": 4,
 "nbformat_minor": 4
}
