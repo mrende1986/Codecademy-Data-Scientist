{
 "cells": [
  {
   "cell_type": "code",
   "execution_count": 1,
   "metadata": {},
   "outputs": [],
   "source": [
    "from bs4 import BeautifulSoup\n",
    "import requests\n",
    "import pandas as pd\n",
    "import matplotlib.pyplot as plt\n",
    "import numpy as np"
   ]
  },
  {
   "cell_type": "markdown",
   "metadata": {},
   "source": [
    "### Import Data using BeautifulSoup\n",
    "\n",
    "For this project I am scraping data on Chocolate using BeautifulSoup."
   ]
  },
  {
   "cell_type": "code",
   "execution_count": 2,
   "metadata": {},
   "outputs": [],
   "source": [
    "webpage = requests.get('https://content.codecademy.com/courses/beautifulsoup/cacao/index.html')\n",
    "soup = BeautifulSoup(webpage.content, 'html.parser')"
   ]
  },
  {
   "cell_type": "code",
   "execution_count": 3,
   "metadata": {},
   "outputs": [],
   "source": [
    "all_rating_tags = soup.find_all(attrs={'class':'Rating'})\n",
    "ratings = []\n",
    "for tag in all_rating_tags[1:]:\n",
    "  ratings.append(float(tag.get_text()))"
   ]
  },
  {
   "cell_type": "markdown",
   "metadata": {},
   "source": [
    "#### What ratings are most frequent"
   ]
  },
  {
   "cell_type": "code",
   "execution_count": 4,
   "metadata": {},
   "outputs": [
    {
     "data": {
      "image/png": "[encoded data removed]",
      "text/plain": [
       "<Figure size 432x288 with 1 Axes>"
      ]
     },
     "metadata": {
      "needs_background": "light"
     },
     "output_type": "display_data"
    }
   ],
   "source": [
    "plt.hist(ratings)\n",
    "plt.show()"
   ]
  },
  {
   "cell_type": "markdown",
   "metadata": {},
   "source": [
    "#### Next I will build a dataframe to see which companies have the highest ratings"
   ]
  },
  {
   "cell_type": "code",
   "execution_count": 5,
   "metadata": {},
   "outputs": [],
   "source": [
    "company_tags = soup.select(\".Company\")\n",
    "companies = []\n",
    "for company in company_tags[1:]:\n",
    "  companies.append(company.get_text())"
   ]
  },
  {
   "cell_type": "code",
   "execution_count": 6,
   "metadata": {},
   "outputs": [],
   "source": [
    "cacao = {\"Company\": companies, \"Rating\": ratings}\n",
    "cacao_df = pd.DataFrame.from_dict(cacao)"
   ]
  },
  {
   "cell_type": "code",
   "execution_count": 7,
   "metadata": {},
   "outputs": [],
   "source": [
    "cacao_gb = cacao_df.groupby('Company').Rating.mean()"
   ]
  },
  {
   "cell_type": "code",
   "execution_count": 8,
   "metadata": {
    "scrolled": true
   },
   "outputs": [
    {
     "data": {
      "text/plain": [
       "Company\n",
       "Tobago Estate (Pralus)                  4.000000\n",
       "Heirloom Cacao Preservation (Zokoko)    3.875000\n",
       "Ocelot                                  3.875000\n",
       "Amedei                                  3.846154\n",
       "Matale                                  3.812500\n",
       "Patric                                  3.791667\n",
       "Idilio (Felchlin)                       3.775000\n",
       "Acalli                                  3.750000\n",
       "Chocola'te                              3.750000\n",
       "Christopher Morel (Felchlin)            3.750000\n",
       "Name: Rating, dtype: float64"
      ]
     },
     "execution_count": 8,
     "metadata": {},
     "output_type": "execute_result"
    }
   ],
   "source": [
    "cacao_gb.nlargest(10)"
   ]
  },
  {
   "cell_type": "code",
   "execution_count": 9,
   "metadata": {},
   "outputs": [],
   "source": [
    "cocoa_per = soup.select(\".CocoaPercent\")\n",
    "cocoa_percents = []\n",
    "\n",
    "for td in cocoa_per[1:]:\n",
    "  percent = float(td.get_text().strip('%'))\n",
    "  cocoa_percents.append(percent)"
   ]
  },
  {
   "cell_type": "code",
   "execution_count": 10,
   "metadata": {},
   "outputs": [],
   "source": [
    "cacoa2 = {\"Company\": companies, \"Rating\": ratings, \"CocoaPercentage\": cocoa_percents}\n",
    "cacao2_df = pd.DataFrame.from_dict(cacoa2)"
   ]
  },
  {
   "cell_type": "markdown",
   "metadata": {},
   "source": [
    "#### I'm building a scatter plot to see if there is a relation between rating and amount of Cocoa used"
   ]
  },
  {
   "cell_type": "code",
   "execution_count": 11,
   "metadata": {
    "scrolled": true
   },
   "outputs": [
    {
     "data": {
      "image/png": "[encoded data removed]",
      "text/plain": [
       "<Figure size 432x288 with 1 Axes>"
      ]
     },
     "metadata": {
      "needs_background": "light"
     },
     "output_type": "display_data"
    }
   ],
   "source": [
    "plt.scatter(cacao2_df.CocoaPercentage, cacao2_df.Rating)\n",
    "plt.show()"
   ]
  },
  {
   "cell_type": "markdown",
   "metadata": {},
   "source": [
    "#### It was hard to identify in the scatter plot if there was a relation so I'll use numpy to identify a trend."
   ]
  },
  {
   "cell_type": "code",
   "execution_count": 12,
   "metadata": {},
   "outputs": [
    {
     "data": {
      "text/plain": [
       "[<matplotlib.lines.Line2D at 0x26c43940910>]"
      ]
     },
     "execution_count": 12,
     "metadata": {},
     "output_type": "execute_result"
    },
    {
     "data": {
      "image/png": "[encoded data removed]",
      "text/plain": [
       "<Figure size 432x288 with 1 Axes>"
      ]
     },
     "metadata": {
      "needs_background": "light"
     },
     "output_type": "display_data"
    }
   ],
   "source": [
    "z = np.polyfit(cacao2_df.CocoaPercentage, cacao2_df.Rating, 1)\n",
    "line_function = np.poly1d(z)\n",
    "plt.plot(cacao2_df.CocoaPercentage, line_function(cacao2_df.CocoaPercentage), \"r--\")"
   ]
  },
  {
   "cell_type": "markdown",
   "metadata": {},
   "source": [
    "#### I'm going to limit the amount of analysis for now, this project was geared towards scraping data from the web. "
   ]
  }
 ],
 "metadata": {
  "kernelspec": {
   "display_name": "Python 3",
   "language": "python",
   "name": "python3"
  },
  "language_info": {
   "codemirror_mode": {
    "name": "ipython",
    "version": 3
   },
   "file_extension": ".py",
   "mimetype": "text/x-python",
   "name": "python",
   "nbconvert_exporter": "python",
   "pygments_lexer": "ipython3",
   "version": "3.8.5"
  }
 },
 "nbformat": 4,
 "nbformat_minor": 4
}
