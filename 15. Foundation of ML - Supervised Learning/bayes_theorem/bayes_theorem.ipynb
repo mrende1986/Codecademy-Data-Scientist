{
 "cells": [
  {
   "cell_type": "markdown",
   "metadata": {},
   "source": [
    "### Dr. Dirac's Statistics Midterm\n",
    "Grading a multiple choice exam is easy. But how much do multiple choice exams tell us about what a student really knows? Dr. Dirac is administering a statistics midterm exam and wants to use Bayes’ Theorem to help him understand the following:\n",
    "\n",
    "Given that a student answered a question correctly, what is the probability that she really knows the material?\n",
    "Dr. Dirac knows the following probabilities based on many years of teaching:\n",
    "\n",
    "- There is a question on the exam that 60% of students know the correct answer to.\n",
    "\n",
    "- Given that a student knows the correct answer, there is still a 15% chance that the student picked the wrong answer.\n",
    "\n",
    "- Given that a student does not know the answer, there is still a 20% chance that the student picks the correct answer by guessing.\n",
    "\n",
    "Using these probabilities, we can answer the question."
   ]
  },
  {
   "cell_type": "markdown",
   "metadata": {},
   "source": [
    "#### Given that a student answered a question correctly, what is the probability that she really knows the material\n",
    "P(A|B) = P(knows the material | answers correctly)"
   ]
  },
  {
   "cell_type": "markdown",
   "metadata": {},
   "source": [
    "P(A) = P(knows the material) = 0.6\n",
    "\n",
    "P(answers correctly | does not know the material) * P(does not know the material) = 0.59\n",
    "P(B) = P(answers correctly) = 0.59\n",
    "\n",
    "P(A|B) = P(B|A) * P(A) / P(B)"
   ]
  },
  {
   "cell_type": "markdown",
   "metadata": {},
   "source": [
    "P(B|A) = P(answers correctly | knows the material) = 0.85"
   ]
  },
  {
   "cell_type": "code",
   "execution_count": 3,
   "metadata": {},
   "outputs": [
    {
     "data": {
      "text/plain": [
       "0.864406779661017"
      ]
     },
     "execution_count": 3,
     "metadata": {},
     "output_type": "execute_result"
    }
   ],
   "source": [
    "#P(A|B) = 0.85 * 0.6 / 0.59\n",
    "0.85 * 0.6 / 0.59"
   ]
  }
 ],
 "metadata": {
  "kernelspec": {
   "display_name": "Python 3",
   "language": "python",
   "name": "python3"
  },
  "language_info": {
   "codemirror_mode": {
    "name": "ipython",
    "version": 3
   },
   "file_extension": ".py",
   "mimetype": "text/x-python",
   "name": "python",
   "nbconvert_exporter": "python",
   "pygments_lexer": "ipython3",
   "version": "3.8.5"
  }
 },
 "nbformat": 4,
 "nbformat_minor": 4
}
