{
 "cells": [
  {
   "cell_type": "code",
   "execution_count": 1,
   "metadata": {},
   "outputs": [],
   "source": [
    "class Patient:\n",
    "  def __init__(self, name, age,sex,bmi,num_of_children,smoker):\n",
    "    self.name = name\n",
    "    self.age = age\n",
    "    # add more parameters here\n",
    "    self.sex = sex\n",
    "    self.bmi = bmi\n",
    "    self.num_of_children = num_of_children\n",
    "    self.smoker = smoker\n",
    "  \n",
    "  def estimated_insurance_cost(self):\n",
    "    estimated_cost = 250 * self.age - 128 * self.sex + 370 * self.bmi + 425 * self.num_of_children + 24000 * self.smoker - 12500\n",
    "    print(f\"{self.name}’s estimated insurance costs is {estimated_cost} dollars.\")\n",
    "\n",
    "  def update_age(self,new_age):\n",
    "    self.age = new_age\n",
    "    print(f\"{self.name} is now {new_age} years old.\")\n",
    "    self.estimated_insurance_cost()\n",
    "\n",
    "  def update_num_children(self,new_num_children):\n",
    "    self.num_of_children = new_num_children\n",
    "    if self.num_of_children == 1:\n",
    "      print(f\"{self.name} has {self.num_of_children} child.\")\n",
    "      self.estimated_insurance_cost()\n",
    "    else:\n",
    "      print(f\"{self.name} has {self.num_of_children} children.\")\n",
    "      self.estimated_insurance_cost()\n",
    "\n",
    "  def patient_profile(self):\n",
    "    patient_information = {}\n",
    "    patient_information['Name'] = self.name\n",
    "    patient_information[\"Age\"] = self.age\n",
    "    patient_information[\"Sex\"] = self.sex\n",
    "    patient_information[\"BMI\"] = self.bmi\n",
    "    patient_information[\"Number of Children\"] = self.num_of_children\n",
    "    patient_information[\"Smoker\"] = self.smoker\n",
    "    return patient_information"
   ]
  },
  {
   "cell_type": "code",
   "execution_count": 2,
   "metadata": {},
   "outputs": [
    {
     "name": "stdout",
     "output_type": "stream",
     "text": [
      "John Doe\n",
      "John Doe has 2 children.\n",
      "John Doe’s estimated insurance costs is 2686.0 dollars.\n",
      "{'Name': 'John Doe', 'Age': 25, 'Sex': 1, 'BMI': 22.2, 'Number of Children': 2, 'Smoker': 0}\n"
     ]
    }
   ],
   "source": [
    "patient1 = Patient(\"John Doe\", 25, 1, 22.2, 0, 0)\n",
    "print(patient1.name)\n",
    "patient1.update_num_children(2)\n",
    "print(patient1.patient_profile())"
   ]
  }
 ],
 "metadata": {
  "kernelspec": {
   "display_name": "Python 3",
   "language": "python",
   "name": "python3"
  },
  "language_info": {
   "codemirror_mode": {
    "name": "ipython",
    "version": 3
   },
   "file_extension": ".py",
   "mimetype": "text/x-python",
   "name": "python",
   "nbconvert_exporter": "python",
   "pygments_lexer": "ipython3",
   "version": "3.8.5"
  }
 },
 "nbformat": 4,
 "nbformat_minor": 4
}
