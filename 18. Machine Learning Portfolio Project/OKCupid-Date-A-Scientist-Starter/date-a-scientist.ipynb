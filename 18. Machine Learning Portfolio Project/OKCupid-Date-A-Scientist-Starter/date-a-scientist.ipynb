{
 "cells": [
  {
   "cell_type": "markdown",
   "metadata": {},
   "source": [
    "# Objectives\n",
    "## 1) Help find true love - through use of NLP I will match users based on their essay question responses.\n",
    "## 2) Use Machine Learning to guess zodiac sign.\n",
    "\n",
    "In recent years, there has been a massive rise in the usage of dating apps to find love. Many of these apps use sophisticated data science techniques to recommend possible matches to users and to optimize the user experience. These apps give us access to a wealth of information that we’ve never had before about how different people experience romance.\n",
    "\n",
    "In this portfolio project, I will be using data from OKCupid, an app that focuses on using multiple choice and short answers to match users.\n",
    "\n",
    "The dataset provided by OK Cupid has the following columns of multiple-choice data:\n",
    "\n",
    "- body_type\n",
    "- diet\n",
    "- drinks\n",
    "- drugs\n",
    "- education\n",
    "- ethnicity\n",
    "- height\n",
    "- income\n",
    "- job\n",
    "- offspring\n",
    "- orientation\n",
    "- pets\n",
    "- religion\n",
    "- sex\n",
    "- sign\n",
    "- smokes\n",
    "- speaks\n",
    "- status\n",
    "\n",
    "And a set of open short-answer responses to :\n",
    "\n",
    "- essay0 - My self summary\n",
    "- essay1 - What I’m doing with my life\n",
    "- essay2 - I’m really good at\n",
    "- essay3 - The first thing people usually notice about me\n",
    "- essay4 - Favorite books, movies, show, music, and food\n",
    "- essay5 - The six things I could never do without\n",
    "- essay6 - I spend a lot of time thinking about\n",
    "- essay7 - On a typical Friday night I am\n",
    "- essay8 - The most private thing I am willing to admit\n",
    "- essay9 - You should message me if…"
   ]
  },
  {
   "cell_type": "code",
   "execution_count": 1,
   "metadata": {},
   "outputs": [],
   "source": [
    "import pandas as pd\n",
    "import numpy as np\n",
    "import matplotlib.pyplot as plt\n",
    "import seaborn as sns\n",
    "from sklearn.feature_extraction.text import CountVectorizer, TfidfTransformer, TfidfVectorizer\n",
    "import re\n",
    "import spacy\n",
    "from collections import Counter\n",
    "from nltk.tokenize import word_tokenize\n",
    "from nltk.stem import WordNetLemmatizer\n",
    "from nltk.corpus import stopwords \n",
    "stop_words = set(stopwords.words('english'))\n",
    "nlp = spacy.load('en_core_web_lg')\n",
    "\n",
    "pd.options.display.max_columns = 50"
   ]
  },
  {
   "cell_type": "code",
   "execution_count": 2,
   "metadata": {},
   "outputs": [],
   "source": [
    "df = pd.read_csv('profiles.csv')"
   ]
  },
  {
   "cell_type": "code",
   "execution_count": 3,
   "metadata": {},
   "outputs": [],
   "source": [
    "df = df[:1000]"
   ]
  },
  {
   "cell_type": "code",
   "execution_count": 4,
   "metadata": {},
   "outputs": [],
   "source": [
    "df.fillna('',axis=0,inplace=True)\n",
    "df.rename(columns={'essay0': 'my_self', 'essay1': 'life', 'essay2': 'good_at', 'essay3': 'people_notice', \n",
    "                         'essay4': 'favorites', 'essay5': 'six_needed', 'essay6': 'think_to', 'essay7': 'friday_night', \n",
    "                         'essay8': 'private_admit', 'essay9': 'message_me_if'}, inplace=True)"
   ]
  },
  {
   "cell_type": "markdown",
   "metadata": {},
   "source": [
    "## 1) Help Find True Love"
   ]
  },
  {
   "cell_type": "markdown",
   "metadata": {},
   "source": [
    "### Preprocess Text"
   ]
  },
  {
   "cell_type": "markdown",
   "metadata": {},
   "source": [
    "Since not all the essay questions are populated for every user I am going to consolidate them all into one column called Essay."
   ]
  },
  {
   "cell_type": "code",
   "execution_count": 5,
   "metadata": {},
   "outputs": [],
   "source": [
    "def essay_prep(data):\n",
    "    \n",
    "    data = data.str.replace(\"\\n\", \" \", regex=False)\n",
    "    data = data.str.replace(r\"<[^>]*>\", \"\", regex=True)\n",
    "    data = data.str.replace(r'[^\\w\\s]', '', regex=True)\n",
    "    data = data.str.lower()\n",
    "    \n",
    "    def remove_numbers(data):\n",
    "        number_pattern = r'\\d+'\n",
    "        data = data.apply(\n",
    "            lambda text: re.sub(pattern=number_pattern, repl=\" \", string=text))\n",
    "        return data\n",
    "    \n",
    "    data = remove_numbers(data)\n",
    "    \n",
    "    def remove_frequent_words(data):\n",
    "        cnt = Counter()\n",
    "        for text in data.values:\n",
    "            for word in text.split(' '):\n",
    "                cnt[word] += 1\n",
    "        FREQWORDS = set([w for (w, wc) in cnt.most_common(10)])\n",
    "        data = data.apply(\n",
    "            lambda text: \" \".join([word for word in str(text).split(' ') if word not in FREQWORDS]))\n",
    "        return data\n",
    "\n",
    "    data = remove_frequent_words(data)\n",
    "    \n",
    "    def lemmatize_words(data):\n",
    "        lemmatizer = WordNetLemmatizer()\n",
    "        data = data.apply(\n",
    "            lambda text: \" \".join([lemmatizer.lemmatize(word) for word in text.split()]))\n",
    "        return data\n",
    "\n",
    "    data = lemmatize_words(data)\n",
    "    \n",
    "    data = [nlp(data[x]) for x in range(len(data))]\n",
    "    \n",
    "    return data"
   ]
  },
  {
   "cell_type": "code",
   "execution_count": 6,
   "metadata": {
    "scrolled": false
   },
   "outputs": [],
   "source": [
    "essays_cols = df.columns.to_list()[6:16]\n",
    "\n",
    "for col in essays_cols:\n",
    "    df[col] = essay_prep(df[col])"
   ]
  },
  {
   "cell_type": "code",
   "execution_count": 7,
   "metadata": {},
   "outputs": [],
   "source": [
    "userid = 0\n",
    "essays_cols = df.columns.to_list()[6:16]\n",
    "\n",
    "def find_best_match(data):\n",
    "    essays_cols = data.columns.to_list()[6:16]\n",
    "    temp_list = []\n",
    "    def userid_v_others(data):\n",
    "        for i in range(len(data)):\n",
    "            temp_list.append(data[userid].similarity(data[i]))\n",
    "        return temp_list\n",
    "\n",
    "    for col in essays_cols:\n",
    "        temp_list = []\n",
    "        data[str(col)+'_score'] = userid_v_others(data[col])\n",
    "\n",
    "    def orientation(data):\n",
    "        if data.orientation.iloc[userid] == 'straight' and data.sex.iloc[userid] == 'm':\n",
    "            return data[(data.orientation == 'straight') & (data.sex == 'f')]\n",
    "        if data.orientation.iloc[userid] == 'straight' and data.sex.iloc[userid] == 'f':\n",
    "            return data[(data.orientation == 'straight') & (data.sex == 'm')]\n",
    "        elif data.orientation.iloc[userid] == 'gay' and data.sex.iloc[userid] == 'm':\n",
    "            return data[(data.orientation == 'gay') & (data.sex == 'm')]\n",
    "        elif data.orientation.iloc[userid] == 'gay' and data.sex.iloc[userid] == 'f':\n",
    "            return data[(data.orientation == 'gay') & (data.sex == 'f')]\n",
    "        elif data.orientation.iloc[userid] == 'bisexual':\n",
    "            return data[data.orientation == 'bisexual']\n",
    "        return data\n",
    "\n",
    "    data = orientation(data)\n",
    "    \n",
    "    # Calculate Average Score of matched essays\n",
    "    data['essay_match'] = data.iloc[: , -10:].mean(axis=1)\n",
    "    \n",
    "    # Sort top 10 highest match\n",
    "    data = data.sort_values(['essay_match'],ascending=False).head()\n",
    "    \n",
    "    return data"
   ]
  },
  {
   "cell_type": "code",
   "execution_count": 8,
   "metadata": {
    "scrolled": false
   },
   "outputs": [
    {
     "name": "stderr",
     "output_type": "stream",
     "text": [
      "C:\\Users\\mrend\\AppData\\Local\\Temp/ipykernel_3308/1144234782.py:9: UserWarning: [W008] Evaluating Doc.similarity based on empty vectors.\n",
      "  temp_list.append(data[userid].similarity(data[i]))\n",
      "C:\\Users\\mrend\\AppData\\Local\\Temp/ipykernel_3308/1144234782.py:32: SettingWithCopyWarning: \n",
      "A value is trying to be set on a copy of a slice from a DataFrame.\n",
      "Try using .loc[row_indexer,col_indexer] = value instead\n",
      "\n",
      "See the caveats in the documentation: https://pandas.pydata.org/pandas-docs/stable/user_guide/indexing.html#returning-a-view-versus-a-copy\n",
      "  data['essay_match'] = data.iloc[: , -10:].mean(axis=1)\n"
     ]
    }
   ],
   "source": [
    "best_match = find_best_match(df)"
   ]
  },
  {
   "cell_type": "code",
   "execution_count": 9,
   "metadata": {},
   "outputs": [
    {
     "data": {
      "text/html": [
       "<div>\n",
       "<style scoped>\n",
       "    .dataframe tbody tr th:only-of-type {\n",
       "        vertical-align: middle;\n",
       "    }\n",
       "\n",
       "    .dataframe tbody tr th {\n",
       "        vertical-align: top;\n",
       "    }\n",
       "\n",
       "    .dataframe thead th {\n",
       "        text-align: right;\n",
       "    }\n",
       "</style>\n",
       "<table border=\"1\" class=\"dataframe\">\n",
       "  <thead>\n",
       "    <tr style=\"text-align: right;\">\n",
       "      <th></th>\n",
       "      <th>age</th>\n",
       "      <th>body_type</th>\n",
       "      <th>diet</th>\n",
       "      <th>drinks</th>\n",
       "      <th>drugs</th>\n",
       "      <th>education</th>\n",
       "      <th>my_self</th>\n",
       "      <th>life</th>\n",
       "      <th>good_at</th>\n",
       "      <th>people_notice</th>\n",
       "      <th>favorites</th>\n",
       "      <th>six_needed</th>\n",
       "      <th>think_to</th>\n",
       "      <th>friday_night</th>\n",
       "      <th>private_admit</th>\n",
       "      <th>message_me_if</th>\n",
       "      <th>ethnicity</th>\n",
       "      <th>height</th>\n",
       "      <th>income</th>\n",
       "      <th>job</th>\n",
       "      <th>last_online</th>\n",
       "      <th>location</th>\n",
       "      <th>offspring</th>\n",
       "      <th>orientation</th>\n",
       "      <th>pets</th>\n",
       "      <th>religion</th>\n",
       "      <th>sex</th>\n",
       "      <th>sign</th>\n",
       "      <th>smokes</th>\n",
       "      <th>speaks</th>\n",
       "      <th>status</th>\n",
       "      <th>my_self_score</th>\n",
       "      <th>life_score</th>\n",
       "      <th>good_at_score</th>\n",
       "      <th>people_notice_score</th>\n",
       "      <th>favorites_score</th>\n",
       "      <th>six_needed_score</th>\n",
       "      <th>think_to_score</th>\n",
       "      <th>friday_night_score</th>\n",
       "      <th>private_admit_score</th>\n",
       "      <th>message_me_if_score</th>\n",
       "      <th>essay_match</th>\n",
       "    </tr>\n",
       "  </thead>\n",
       "  <tbody>\n",
       "    <tr>\n",
       "      <th>209</th>\n",
       "      <td>30</td>\n",
       "      <td>thin</td>\n",
       "      <td>mostly anything</td>\n",
       "      <td>socially</td>\n",
       "      <td>never</td>\n",
       "      <td>working on college/university</td>\n",
       "      <td>(me, what, more, do, you, want, like, pretty, ...</td>\n",
       "      <td>(am, student, at, local, community, college, b...</td>\n",
       "      <td>(love, loyalty, laughter, frequently, think, m...</td>\n",
       "      <td>(eye, are, blue, hair, is, partially, insert, ...</td>\n",
       "      <td>(book, currently, reading, girl, with, dragon,...</td>\n",
       "      <td>(this, includes, pet, mine, are, pretty, fanta...</td>\n",
       "      <td>(lot, stuff, thing, ohhhh, shiny, wonder, what...</td>\n",
       "      <td>(apparently, filling, essay, on, okcupid, when...</td>\n",
       "      <td>(am, giant, dork, wait, that, s, common, knowl...</td>\n",
       "      <td>(want, i, m, decently, awesome, bother, take, ...</td>\n",
       "      <td>white</td>\n",
       "      <td>66.0</td>\n",
       "      <td>-1</td>\n",
       "      <td>rather not say</td>\n",
       "      <td>2012-06-27-18-22</td>\n",
       "      <td>menlo park, california</td>\n",
       "      <td></td>\n",
       "      <td>straight</td>\n",
       "      <td>has dogs and has cats</td>\n",
       "      <td>agnosticism</td>\n",
       "      <td>f</td>\n",
       "      <td>gemini and it&amp;rsquo;s fun to think about</td>\n",
       "      <td>no</td>\n",
       "      <td>english (fluently)</td>\n",
       "      <td>seeing someone</td>\n",
       "      <td>0.980087</td>\n",
       "      <td>0.924784</td>\n",
       "      <td>0.802563</td>\n",
       "      <td>0.909458</td>\n",
       "      <td>0.893722</td>\n",
       "      <td>0.616122</td>\n",
       "      <td>0.594578</td>\n",
       "      <td>0.916096</td>\n",
       "      <td>0.786965</td>\n",
       "      <td>0.937325</td>\n",
       "      <td>0.836170</td>\n",
       "    </tr>\n",
       "    <tr>\n",
       "      <th>901</th>\n",
       "      <td>22</td>\n",
       "      <td>curvy</td>\n",
       "      <td>mostly vegetarian</td>\n",
       "      <td>socially</td>\n",
       "      <td></td>\n",
       "      <td>working on college/university</td>\n",
       "      <td>(hola, ola, hallo, kaixo, hafa, adai, bonjour,...</td>\n",
       "      <td>(am, one, year, away, from, obtaining, baccala...</td>\n",
       "      <td>(being, clumsy, procrastinating, laughing, wro...</td>\n",
       "      <td>(are, you, irish, is, your, hair, natural, lat...</td>\n",
       "      <td>(john, steinbeck, witch, portabello, george, o...</td>\n",
       "      <td>(soulful, people, sleep, color, book, water, c...</td>\n",
       "      <td>(human, existence, tend, overanalyze, thing, s...</td>\n",
       "      <td>(usually, begin, work, end, few, drink, few, s...</td>\n",
       "      <td>(have, an, account, on, dating, website)</td>\n",
       "      <td>(just, do, it, feel, so, inclined, know, what,...</td>\n",
       "      <td>white</td>\n",
       "      <td>67.0</td>\n",
       "      <td>-1</td>\n",
       "      <td>student</td>\n",
       "      <td>2012-04-07-16-10</td>\n",
       "      <td>emeryville, california</td>\n",
       "      <td></td>\n",
       "      <td>straight</td>\n",
       "      <td></td>\n",
       "      <td>other</td>\n",
       "      <td>f</td>\n",
       "      <td>libra and it&amp;rsquo;s fun to think about</td>\n",
       "      <td>trying to quit</td>\n",
       "      <td>english (fluently), spanish (fluently), german...</td>\n",
       "      <td>single</td>\n",
       "      <td>0.948848</td>\n",
       "      <td>0.914731</td>\n",
       "      <td>0.851357</td>\n",
       "      <td>0.918548</td>\n",
       "      <td>0.884709</td>\n",
       "      <td>0.663778</td>\n",
       "      <td>0.697441</td>\n",
       "      <td>0.889922</td>\n",
       "      <td>0.689503</td>\n",
       "      <td>0.882886</td>\n",
       "      <td>0.834172</td>\n",
       "    </tr>\n",
       "    <tr>\n",
       "      <th>414</th>\n",
       "      <td>49</td>\n",
       "      <td>curvy</td>\n",
       "      <td>mostly other</td>\n",
       "      <td>socially</td>\n",
       "      <td>never</td>\n",
       "      <td>graduated from masters program</td>\n",
       "      <td>(ok, here, enough, info, save, u, bunch, email...</td>\n",
       "      <td>(being, being, change, agent, being, present, ...</td>\n",
       "      <td>(stuff, previous, section, relationship, being...</td>\n",
       "      <td>(warm, eye, or, long, leg, if, wearing, dress,...</td>\n",
       "      <td>(book, nonfiction, elegant, universe, sacred, ...</td>\n",
       "      <td>(or, prefer, not, sunshine, outdoors, fresh, a...</td>\n",
       "      <td>(what, cat, is, trying, tell, me, quantum, phy...</td>\n",
       "      <td>(netflixg, at, rockin, kirtan, gardening, till...</td>\n",
       "      <td>(on, internet, life, need, way, more, laughter...</td>\n",
       "      <td>(you, re, fabulous, kisser, you, re, nonsmoker...</td>\n",
       "      <td>white</td>\n",
       "      <td>68.0</td>\n",
       "      <td>-1</td>\n",
       "      <td>other</td>\n",
       "      <td>2012-06-28-14-39</td>\n",
       "      <td>san rafael, california</td>\n",
       "      <td>has a kid, but doesn&amp;rsquo;t want more</td>\n",
       "      <td>straight</td>\n",
       "      <td>likes dogs and has cats</td>\n",
       "      <td>other but not too serious about it</td>\n",
       "      <td>f</td>\n",
       "      <td>virgo but it doesn&amp;rsquo;t matter</td>\n",
       "      <td>no</td>\n",
       "      <td>english</td>\n",
       "      <td>single</td>\n",
       "      <td>0.980359</td>\n",
       "      <td>0.907115</td>\n",
       "      <td>0.842937</td>\n",
       "      <td>0.919109</td>\n",
       "      <td>0.883214</td>\n",
       "      <td>0.648222</td>\n",
       "      <td>0.617564</td>\n",
       "      <td>0.838999</td>\n",
       "      <td>0.777797</td>\n",
       "      <td>0.908977</td>\n",
       "      <td>0.832429</td>\n",
       "    </tr>\n",
       "    <tr>\n",
       "      <th>354</th>\n",
       "      <td>34</td>\n",
       "      <td>curvy</td>\n",
       "      <td>mostly anything</td>\n",
       "      <td>rarely</td>\n",
       "      <td>never</td>\n",
       "      <td>graduated from college/university</td>\n",
       "      <td>(easy, going, usually, get, along, with, every...</td>\n",
       "      <td>(i, m, graphic, designer, work, local, printin...</td>\n",
       "      <td>(being, me, sound, conceded, but, it, true, ha...</td>\n",
       "      <td>(i, ve, gotten, two, response, this, eye, or, ...</td>\n",
       "      <td>(i, m, not, regular, reader, i, m, dyslexic, r...</td>\n",
       "      <td>(air, food, water, daylight)</td>\n",
       "      <td>(future, like, plan, thing, work, towards, goal)</td>\n",
       "      <td>(at, home, like, go, but, usually, friday, i, ...</td>\n",
       "      <td>(do, nt, know, depends, on, what, you, conside...</td>\n",
       "      <td>(interested, in, serious, relationship, do, nt...</td>\n",
       "      <td>white</td>\n",
       "      <td>68.0</td>\n",
       "      <td>40000</td>\n",
       "      <td>artistic / musical / writer</td>\n",
       "      <td>2012-06-28-21-42</td>\n",
       "      <td>hayward, california</td>\n",
       "      <td>doesn&amp;rsquo;t have kids, but wants them</td>\n",
       "      <td>straight</td>\n",
       "      <td>likes dogs and has cats</td>\n",
       "      <td>atheism</td>\n",
       "      <td>f</td>\n",
       "      <td>cancer but it doesn&amp;rsquo;t matter</td>\n",
       "      <td>no</td>\n",
       "      <td>english (fluently), spanish (fluently), french...</td>\n",
       "      <td>single</td>\n",
       "      <td>0.978616</td>\n",
       "      <td>0.929633</td>\n",
       "      <td>0.757444</td>\n",
       "      <td>0.896560</td>\n",
       "      <td>0.823408</td>\n",
       "      <td>0.744582</td>\n",
       "      <td>0.529215</td>\n",
       "      <td>0.875907</td>\n",
       "      <td>0.801915</td>\n",
       "      <td>0.902420</td>\n",
       "      <td>0.823970</td>\n",
       "    </tr>\n",
       "    <tr>\n",
       "      <th>597</th>\n",
       "      <td>38</td>\n",
       "      <td>curvy</td>\n",
       "      <td>strictly anything</td>\n",
       "      <td>socially</td>\n",
       "      <td>sometimes</td>\n",
       "      <td>graduated from masters program</td>\n",
       "      <td>(am, fun, be, around, always, curious, adventu...</td>\n",
       "      <td>(free, time, i, m, looking, do, something, act...</td>\n",
       "      <td>(seeing, silver, lining, cut, shot, on, pool, ...</td>\n",
       "      <td>(big, friendly, nature, exotic, look, open, mi...</td>\n",
       "      <td>(too, many, list, so, much, inspiration, enter...</td>\n",
       "      <td>(water, playing, in, it, being, near, it, grea...</td>\n",
       "      <td>(find, balance, an, increasingly, complex, wor...</td>\n",
       "      <td>(having, dinner, drink, maybe, some, live, mus...</td>\n",
       "      <td>(sucker, for, guy, who, wink, at, me, guy, on,...</td>\n",
       "      <td>(you, re, smart, openminded, playful, athletic...</td>\n",
       "      <td>indian, white, other</td>\n",
       "      <td>67.0</td>\n",
       "      <td>80000</td>\n",
       "      <td>science / tech / engineering</td>\n",
       "      <td>2012-06-28-10-32</td>\n",
       "      <td>san francisco, california</td>\n",
       "      <td></td>\n",
       "      <td>straight</td>\n",
       "      <td>likes dogs and likes cats</td>\n",
       "      <td>other but not too serious about it</td>\n",
       "      <td>f</td>\n",
       "      <td>aquarius and it&amp;rsquo;s fun to think about</td>\n",
       "      <td>no</td>\n",
       "      <td>english, spanish (poorly), french (poorly)</td>\n",
       "      <td>single</td>\n",
       "      <td>0.982831</td>\n",
       "      <td>0.916449</td>\n",
       "      <td>0.782259</td>\n",
       "      <td>0.872099</td>\n",
       "      <td>0.906833</td>\n",
       "      <td>0.666890</td>\n",
       "      <td>0.566896</td>\n",
       "      <td>0.865488</td>\n",
       "      <td>0.742773</td>\n",
       "      <td>0.917247</td>\n",
       "      <td>0.821976</td>\n",
       "    </tr>\n",
       "  </tbody>\n",
       "</table>\n",
       "</div>"
      ],
      "text/plain": [
       "     age body_type               diet    drinks      drugs  \\\n",
       "209   30      thin    mostly anything  socially      never   \n",
       "901   22     curvy  mostly vegetarian  socially              \n",
       "414   49     curvy       mostly other  socially      never   \n",
       "354   34     curvy    mostly anything    rarely      never   \n",
       "597   38     curvy  strictly anything  socially  sometimes   \n",
       "\n",
       "                             education  \\\n",
       "209      working on college/university   \n",
       "901      working on college/university   \n",
       "414     graduated from masters program   \n",
       "354  graduated from college/university   \n",
       "597     graduated from masters program   \n",
       "\n",
       "                                               my_self  \\\n",
       "209  (me, what, more, do, you, want, like, pretty, ...   \n",
       "901  (hola, ola, hallo, kaixo, hafa, adai, bonjour,...   \n",
       "414  (ok, here, enough, info, save, u, bunch, email...   \n",
       "354  (easy, going, usually, get, along, with, every...   \n",
       "597  (am, fun, be, around, always, curious, adventu...   \n",
       "\n",
       "                                                  life  \\\n",
       "209  (am, student, at, local, community, college, b...   \n",
       "901  (am, one, year, away, from, obtaining, baccala...   \n",
       "414  (being, being, change, agent, being, present, ...   \n",
       "354  (i, m, graphic, designer, work, local, printin...   \n",
       "597  (free, time, i, m, looking, do, something, act...   \n",
       "\n",
       "                                               good_at  \\\n",
       "209  (love, loyalty, laughter, frequently, think, m...   \n",
       "901  (being, clumsy, procrastinating, laughing, wro...   \n",
       "414  (stuff, previous, section, relationship, being...   \n",
       "354  (being, me, sound, conceded, but, it, true, ha...   \n",
       "597  (seeing, silver, lining, cut, shot, on, pool, ...   \n",
       "\n",
       "                                         people_notice  \\\n",
       "209  (eye, are, blue, hair, is, partially, insert, ...   \n",
       "901  (are, you, irish, is, your, hair, natural, lat...   \n",
       "414  (warm, eye, or, long, leg, if, wearing, dress,...   \n",
       "354  (i, ve, gotten, two, response, this, eye, or, ...   \n",
       "597  (big, friendly, nature, exotic, look, open, mi...   \n",
       "\n",
       "                                             favorites  \\\n",
       "209  (book, currently, reading, girl, with, dragon,...   \n",
       "901  (john, steinbeck, witch, portabello, george, o...   \n",
       "414  (book, nonfiction, elegant, universe, sacred, ...   \n",
       "354  (i, m, not, regular, reader, i, m, dyslexic, r...   \n",
       "597  (too, many, list, so, much, inspiration, enter...   \n",
       "\n",
       "                                            six_needed  \\\n",
       "209  (this, includes, pet, mine, are, pretty, fanta...   \n",
       "901  (soulful, people, sleep, color, book, water, c...   \n",
       "414  (or, prefer, not, sunshine, outdoors, fresh, a...   \n",
       "354                       (air, food, water, daylight)   \n",
       "597  (water, playing, in, it, being, near, it, grea...   \n",
       "\n",
       "                                              think_to  \\\n",
       "209  (lot, stuff, thing, ohhhh, shiny, wonder, what...   \n",
       "901  (human, existence, tend, overanalyze, thing, s...   \n",
       "414  (what, cat, is, trying, tell, me, quantum, phy...   \n",
       "354   (future, like, plan, thing, work, towards, goal)   \n",
       "597  (find, balance, an, increasingly, complex, wor...   \n",
       "\n",
       "                                          friday_night  \\\n",
       "209  (apparently, filling, essay, on, okcupid, when...   \n",
       "901  (usually, begin, work, end, few, drink, few, s...   \n",
       "414  (netflixg, at, rockin, kirtan, gardening, till...   \n",
       "354  (at, home, like, go, but, usually, friday, i, ...   \n",
       "597  (having, dinner, drink, maybe, some, live, mus...   \n",
       "\n",
       "                                         private_admit  \\\n",
       "209  (am, giant, dork, wait, that, s, common, knowl...   \n",
       "901           (have, an, account, on, dating, website)   \n",
       "414  (on, internet, life, need, way, more, laughter...   \n",
       "354  (do, nt, know, depends, on, what, you, conside...   \n",
       "597  (sucker, for, guy, who, wink, at, me, guy, on,...   \n",
       "\n",
       "                                         message_me_if             ethnicity  \\\n",
       "209  (want, i, m, decently, awesome, bother, take, ...                 white   \n",
       "901  (just, do, it, feel, so, inclined, know, what,...                 white   \n",
       "414  (you, re, fabulous, kisser, you, re, nonsmoker...                 white   \n",
       "354  (interested, in, serious, relationship, do, nt...                 white   \n",
       "597  (you, re, smart, openminded, playful, athletic...  indian, white, other   \n",
       "\n",
       "     height  income                           job       last_online  \\\n",
       "209    66.0      -1                rather not say  2012-06-27-18-22   \n",
       "901    67.0      -1                       student  2012-04-07-16-10   \n",
       "414    68.0      -1                         other  2012-06-28-14-39   \n",
       "354    68.0   40000   artistic / musical / writer  2012-06-28-21-42   \n",
       "597    67.0   80000  science / tech / engineering  2012-06-28-10-32   \n",
       "\n",
       "                      location                                offspring  \\\n",
       "209     menlo park, california                                            \n",
       "901     emeryville, california                                            \n",
       "414     san rafael, california   has a kid, but doesn&rsquo;t want more   \n",
       "354        hayward, california  doesn&rsquo;t have kids, but wants them   \n",
       "597  san francisco, california                                            \n",
       "\n",
       "    orientation                       pets  \\\n",
       "209    straight      has dogs and has cats   \n",
       "901    straight                              \n",
       "414    straight    likes dogs and has cats   \n",
       "354    straight    likes dogs and has cats   \n",
       "597    straight  likes dogs and likes cats   \n",
       "\n",
       "                               religion sex  \\\n",
       "209                         agnosticism   f   \n",
       "901                               other   f   \n",
       "414  other but not too serious about it   f   \n",
       "354                             atheism   f   \n",
       "597  other but not too serious about it   f   \n",
       "\n",
       "                                           sign          smokes  \\\n",
       "209    gemini and it&rsquo;s fun to think about              no   \n",
       "901     libra and it&rsquo;s fun to think about  trying to quit   \n",
       "414           virgo but it doesn&rsquo;t matter              no   \n",
       "354          cancer but it doesn&rsquo;t matter              no   \n",
       "597  aquarius and it&rsquo;s fun to think about              no   \n",
       "\n",
       "                                                speaks          status  \\\n",
       "209                                 english (fluently)  seeing someone   \n",
       "901  english (fluently), spanish (fluently), german...          single   \n",
       "414                                            english          single   \n",
       "354  english (fluently), spanish (fluently), french...          single   \n",
       "597         english, spanish (poorly), french (poorly)          single   \n",
       "\n",
       "     my_self_score  life_score  good_at_score  people_notice_score  \\\n",
       "209       0.980087    0.924784       0.802563             0.909458   \n",
       "901       0.948848    0.914731       0.851357             0.918548   \n",
       "414       0.980359    0.907115       0.842937             0.919109   \n",
       "354       0.978616    0.929633       0.757444             0.896560   \n",
       "597       0.982831    0.916449       0.782259             0.872099   \n",
       "\n",
       "     favorites_score  six_needed_score  think_to_score  friday_night_score  \\\n",
       "209         0.893722          0.616122        0.594578            0.916096   \n",
       "901         0.884709          0.663778        0.697441            0.889922   \n",
       "414         0.883214          0.648222        0.617564            0.838999   \n",
       "354         0.823408          0.744582        0.529215            0.875907   \n",
       "597         0.906833          0.666890        0.566896            0.865488   \n",
       "\n",
       "     private_admit_score  message_me_if_score  essay_match  \n",
       "209             0.786965             0.937325     0.836170  \n",
       "901             0.689503             0.882886     0.834172  \n",
       "414             0.777797             0.908977     0.832429  \n",
       "354             0.801915             0.902420     0.823970  \n",
       "597             0.742773             0.917247     0.821976  "
      ]
     },
     "execution_count": 9,
     "metadata": {},
     "output_type": "execute_result"
    }
   ],
   "source": [
    "best_match.head(10)"
   ]
  },
  {
   "cell_type": "markdown",
   "metadata": {},
   "source": [
    "## 2) Predicting Zodiac Sign"
   ]
  },
  {
   "cell_type": "markdown",
   "metadata": {},
   "source": [
    "Data cleanup for Zodiac Sign and Religion"
   ]
  },
  {
   "cell_type": "code",
   "execution_count": 10,
   "metadata": {},
   "outputs": [
    {
     "data": {
      "text/plain": [
       "array(['gemini', 'cancer', 'pisces but it doesn&rsquo;t matter', 'pisces',\n",
       "       'aquarius', 'taurus', 'virgo', 'sagittarius',\n",
       "       'gemini but it doesn&rsquo;t matter',\n",
       "       'cancer but it doesn&rsquo;t matter',\n",
       "       'leo but it doesn&rsquo;t matter', '',\n",
       "       'aquarius but it doesn&rsquo;t matter',\n",
       "       'aries and it&rsquo;s fun to think about',\n",
       "       'libra but it doesn&rsquo;t matter',\n",
       "       'pisces and it&rsquo;s fun to think about', 'libra',\n",
       "       'taurus but it doesn&rsquo;t matter',\n",
       "       'sagittarius but it doesn&rsquo;t matter',\n",
       "       'scorpio and it matters a lot',\n",
       "       'gemini and it&rsquo;s fun to think about',\n",
       "       'leo and it&rsquo;s fun to think about',\n",
       "       'cancer and it&rsquo;s fun to think about',\n",
       "       'libra and it&rsquo;s fun to think about',\n",
       "       'aquarius and it&rsquo;s fun to think about',\n",
       "       'virgo but it doesn&rsquo;t matter',\n",
       "       'scorpio and it&rsquo;s fun to think about',\n",
       "       'capricorn but it doesn&rsquo;t matter', 'scorpio',\n",
       "       'capricorn and it&rsquo;s fun to think about', 'leo',\n",
       "       'aries but it doesn&rsquo;t matter', 'aries',\n",
       "       'scorpio but it doesn&rsquo;t matter',\n",
       "       'sagittarius and it&rsquo;s fun to think about',\n",
       "       'libra and it matters a lot',\n",
       "       'taurus and it&rsquo;s fun to think about',\n",
       "       'leo and it matters a lot',\n",
       "       'virgo and it&rsquo;s fun to think about',\n",
       "       'cancer and it matters a lot', 'capricorn',\n",
       "       'pisces and it matters a lot', 'aries and it matters a lot',\n",
       "       'capricorn and it matters a lot', 'aquarius and it matters a lot'],\n",
       "      dtype=object)"
      ]
     },
     "execution_count": 10,
     "metadata": {},
     "output_type": "execute_result"
    }
   ],
   "source": [
    "df['sign'].unique()"
   ]
  },
  {
   "cell_type": "code",
   "execution_count": 11,
   "metadata": {},
   "outputs": [
    {
     "data": {
      "image/png": "[encoded data removed]",
      "text/plain": [
       "<Figure size 432x288 with 1 Axes>"
      ]
     },
     "metadata": {
      "needs_background": "light"
     },
     "output_type": "display_data"
    }
   ],
   "source": [
    "df['sign_cleaned'] = df.sign.str.split().str.get(0)\n",
    "fig, ax = plt.subplots()\n",
    "ax = sns.countplot(data = df, y = 'sign_cleaned', palette = 'pastel')\n",
    "labels = [item.get_text() for item in ax.get_yticklabels()]\n",
    "ax.set_title(\"Sign\", pad=10)\n",
    "ax.set_yticks(range(len(labels)))\n",
    "ax.set_yticklabels(labels, fontsize=10)\n",
    "plt.show()"
   ]
  },
  {
   "cell_type": "code",
   "execution_count": 12,
   "metadata": {},
   "outputs": [
    {
     "data": {
      "text/plain": [
       "array(['agnosticism and very serious about it',\n",
       "       'agnosticism but not too serious about it', '', 'atheism',\n",
       "       'christianity', 'christianity but not too serious about it',\n",
       "       'atheism and laughing about it',\n",
       "       'christianity and very serious about it', 'other', 'catholicism',\n",
       "       'catholicism but not too serious about it',\n",
       "       'catholicism and somewhat serious about it',\n",
       "       'agnosticism and somewhat serious about it',\n",
       "       'catholicism and laughing about it',\n",
       "       'agnosticism and laughing about it', 'agnosticism',\n",
       "       'atheism and somewhat serious about it',\n",
       "       'buddhism but not too serious about it',\n",
       "       'other but not too serious about it', 'buddhism',\n",
       "       'other and laughing about it',\n",
       "       'judaism but not too serious about it',\n",
       "       'buddhism and laughing about it',\n",
       "       'other and somewhat serious about it',\n",
       "       'other and very serious about it',\n",
       "       'hinduism but not too serious about it',\n",
       "       'atheism but not too serious about it', 'judaism',\n",
       "       'christianity and somewhat serious about it',\n",
       "       'hinduism and very serious about it',\n",
       "       'atheism and very serious about it',\n",
       "       'judaism and laughing about it',\n",
       "       'christianity and laughing about it',\n",
       "       'hinduism and laughing about it',\n",
       "       'buddhism and somewhat serious about it',\n",
       "       'islam and very serious about it', 'islam', 'hinduism',\n",
       "       'judaism and somewhat serious about it',\n",
       "       'catholicism and very serious about it'], dtype=object)"
      ]
     },
     "execution_count": 12,
     "metadata": {},
     "output_type": "execute_result"
    }
   ],
   "source": [
    "df['religion'].unique()"
   ]
  },
  {
   "cell_type": "code",
   "execution_count": 13,
   "metadata": {},
   "outputs": [
    {
     "data": {
      "image/png": "[encoded data removed]",
      "text/plain": [
       "<Figure size 432x288 with 1 Axes>"
      ]
     },
     "metadata": {
      "needs_background": "light"
     },
     "output_type": "display_data"
    }
   ],
   "source": [
    "df['religion_cleaned'] = df.religion.str.split().str.get(0)\n",
    "fig, ax = plt.subplots()\n",
    "ax = sns.countplot(data = df, y = 'religion_cleaned', palette = 'Set2')\n",
    "labels = [item.get_text() for item in ax.get_yticklabels()]\n",
    "ax.set_title(\"Cleaned Religion\", pad=10)\n",
    "ax.set_yticks(range(len(labels)))\n",
    "ax.set_yticklabels(labels, fontsize=10)\n",
    "plt.show()"
   ]
  },
  {
   "cell_type": "markdown",
   "metadata": {},
   "source": [
    "# Machine Learning Models Training\n",
    "In order to create a model that predict a zodiac sign for a user, only some features are used to create model. \n",
    "\n",
    "#### K Nearest Neighbors\n",
    "#### Random Forest\n",
    "#### Support Vector Machine"
   ]
  },
  {
   "cell_type": "code",
   "execution_count": 14,
   "metadata": {},
   "outputs": [],
   "source": [
    "# import tools for preprocessing data\n",
    "from sklearn.model_selection import train_test_split\n",
    "from sklearn.pipeline import Pipeline\n",
    "from sklearn.compose import ColumnTransformer\n",
    "from sklearn.preprocessing import OneHotEncoder, StandardScaler, LabelEncoder, FunctionTransformer\n",
    "from sklearn.impute import SimpleImputer\n",
    "\n",
    "# Import machine learning model classifiers\n",
    "from sklearn.neighbors import KNeighborsClassifier\n",
    "from sklearn.ensemble import RandomForestClassifier\n",
    "from sklearn.svm import SVC\n",
    "\n",
    "# Import metrics for model evaluations\n",
    "from sklearn.metrics import classification_report, f1_score\n",
    "from sklearn.model_selection import cross_val_score"
   ]
  },
  {
   "cell_type": "markdown",
   "metadata": {},
   "source": [
    "#### Preprocessing Data\n",
    "Section 1: Age and Categorical Columns"
   ]
  },
  {
   "cell_type": "code",
   "execution_count": 15,
   "metadata": {},
   "outputs": [],
   "source": [
    "cols_to_classify = ['age', 'body_type', 'diet', 'drinks', 'drugs', 'education', 'job' , \n",
    "                    'offspring', 'pets', 'smokes',  'religion_cleaned', 'sign_cleaned']"
   ]
  },
  {
   "cell_type": "code",
   "execution_count": 16,
   "metadata": {},
   "outputs": [
    {
     "name": "stdout",
     "output_type": "stream",
     "text": [
      "Index(['age', 'body_type', 'diet', 'drinks', 'drugs', 'education', 'job',\n",
      "       'offspring', 'pets', 'smokes', 'religion_cleaned', 'sign_cleaned'],\n",
      "      dtype='object')\n",
      "(560, 12)\n"
     ]
    }
   ],
   "source": [
    "user_data = df[cols_to_classify]\n",
    "user_data = user_data.dropna()\n",
    "print(user_data.columns)\n",
    "print(user_data.shape)"
   ]
  },
  {
   "cell_type": "code",
   "execution_count": 17,
   "metadata": {},
   "outputs": [
    {
     "data": {
      "image/png": "[encoded data removed]",
      "text/plain": [
       "<Figure size 432x288 with 1 Axes>"
      ]
     },
     "metadata": {
      "needs_background": "light"
     },
     "output_type": "display_data"
    }
   ],
   "source": [
    "sns.countplot(data=user_data, y='sign_cleaned');"
   ]
  },
  {
   "cell_type": "code",
   "execution_count": 18,
   "metadata": {},
   "outputs": [
    {
     "data": {
      "text/plain": [
       "array([ 4,  2, 10,  8,  4])"
      ]
     },
     "execution_count": 18,
     "metadata": {},
     "output_type": "execute_result"
    }
   ],
   "source": [
    "# split data into user and user_labels group\n",
    "user = user_data.drop('sign_cleaned', axis=1)\n",
    "user_labels = user_data['sign_cleaned'].copy()\n",
    "\n",
    "# chage user_labels from text to number\n",
    "le = LabelEncoder()\n",
    "user_labels = le.fit_transform(user_labels)\n",
    "user_labels[:5]"
   ]
  },
  {
   "cell_type": "code",
   "execution_count": 19,
   "metadata": {},
   "outputs": [
    {
     "data": {
      "text/plain": [
       "array(['aquarius', 'aries', 'cancer', 'capricorn', 'gemini', 'leo',\n",
       "       'libra', 'pisces', 'sagittarius', 'scorpio', 'taurus', 'virgo'],\n",
       "      dtype=object)"
      ]
     },
     "execution_count": 19,
     "metadata": {},
     "output_type": "execute_result"
    }
   ],
   "source": [
    "le.classes_"
   ]
  },
  {
   "cell_type": "code",
   "execution_count": 20,
   "metadata": {},
   "outputs": [],
   "source": [
    "# split data into training set and testing set\n",
    "X_train, X_test, y_train, y_test = train_test_split(\n",
    "    user, user_labels, test_size=0.2, random_state=33)"
   ]
  },
  {
   "cell_type": "code",
   "execution_count": 21,
   "metadata": {},
   "outputs": [],
   "source": [
    "# prepare data using pipeline and column transformer\n",
    "num_attr = ['age']\n",
    "cat_attr = ['body_type', 'diet', 'drinks', 'drugs', 'education', 'job' , 'offspring', 'pets', 'smokes',  'religion_cleaned']\n",
    "num_pipeline = Pipeline([('log_transform', FunctionTransformer(np.log)),('stdscaler', StandardScaler())])\n",
    "cat_pipeline = Pipeline([('onehot', OneHotEncoder())])\n",
    "full_pipeline = ColumnTransformer([('num', num_pipeline, num_attr), ('cat', cat_pipeline, cat_attr)])"
   ]
  },
  {
   "cell_type": "code",
   "execution_count": 22,
   "metadata": {},
   "outputs": [],
   "source": [
    "X_prepared = full_pipeline.fit_transform(X_train)"
   ]
  },
  {
   "cell_type": "code",
   "execution_count": 23,
   "metadata": {},
   "outputs": [
    {
     "data": {
      "text/plain": [
       "array([[-0.30347219,  1.        ,  0.        , ...,  0.        ,\n",
       "         0.        ,  0.        ],\n",
       "       [-0.18188364,  0.        ,  0.        , ...,  0.        ,\n",
       "         0.        ,  1.        ],\n",
       "       [ 0.04994927,  0.        ,  0.        , ...,  0.        ,\n",
       "         0.        ,  0.        ],\n",
       "       ...,\n",
       "       [-0.06415569,  0.        ,  0.        , ...,  0.        ,\n",
       "         0.        ,  0.        ],\n",
       "       [ 0.85485021,  0.        ,  0.        , ...,  0.        ,\n",
       "         0.        ,  0.        ],\n",
       "       [-0.69416148,  0.        ,  0.        , ...,  0.        ,\n",
       "         0.        ,  0.        ]])"
      ]
     },
     "execution_count": 23,
     "metadata": {},
     "output_type": "execute_result"
    }
   ],
   "source": [
    "X_prepared.toarray()"
   ]
  },
  {
   "cell_type": "markdown",
   "metadata": {},
   "source": [
    "# Training KNN Model Evaluation and Tuning"
   ]
  },
  {
   "cell_type": "code",
   "execution_count": 24,
   "metadata": {},
   "outputs": [
    {
     "name": "stdout",
     "output_type": "stream",
     "text": [
      "              precision    recall  f1-score   support\n",
      "\n",
      "           0       0.24      0.50      0.32        40\n",
      "           1       0.35      0.61      0.44        36\n",
      "           2       0.17      0.21      0.19        38\n",
      "           3       0.53      0.32      0.40        25\n",
      "           4       0.34      0.29      0.32        41\n",
      "           5       0.25      0.15      0.19        39\n",
      "           6       0.38      0.32      0.35        37\n",
      "           7       0.44      0.31      0.36        36\n",
      "           8       0.44      0.35      0.39        34\n",
      "           9       0.38      0.29      0.33        34\n",
      "          10       0.30      0.28      0.29        46\n",
      "          11       0.58      0.36      0.44        42\n",
      "\n",
      "    accuracy                           0.33       448\n",
      "   macro avg       0.37      0.33      0.34       448\n",
      "weighted avg       0.36      0.33      0.33       448\n",
      "\n"
     ]
    }
   ],
   "source": [
    "KNN_classifier = KNeighborsClassifier()\n",
    "\n",
    "KNN_classifier.fit(X_prepared, y_train)\n",
    "KNN_train_predictions = KNN_classifier.predict(X_prepared)\n",
    "print(classification_report(y_train, KNN_train_predictions))"
   ]
  },
  {
   "cell_type": "markdown",
   "metadata": {},
   "source": [
    "The KNN model has average f1-score at 33%. However, this is the score on training data. The cross validation method would be used to see how the model works in generalizing."
   ]
  },
  {
   "cell_type": "code",
   "execution_count": 25,
   "metadata": {},
   "outputs": [
    {
     "name": "stdout",
     "output_type": "stream",
     "text": [
      "[0.06570973 0.01706349 0.08039126 0.05097354 0.05785771]\n"
     ]
    }
   ],
   "source": [
    "# doing 5-folded cross validation and print out the f1_macro scores\n",
    "print(cross_val_score(KNN_classifier, X_prepared, y_train, scoring='f1_macro', cv=5))"
   ]
  },
  {
   "cell_type": "markdown",
   "metadata": {},
   "source": [
    "The KNN model works very bad on validation dataset. This might be caused by unappropriate k-value used in prediction. The default value of n_neighbors of KNeighborClassifier is 5. The model was trained with different k-values ranging from 1 to 20."
   ]
  },
  {
   "cell_type": "code",
   "execution_count": 26,
   "metadata": {},
   "outputs": [],
   "source": [
    "knn_scores = []\n",
    "for k in range(1,21):\n",
    "    KNN_classifier = KNeighborsClassifier(n_neighbors=k)\n",
    "    KNN_classifier.fit(X_prepared, y_train)\n",
    "    y_pred = KNN_classifier.predict(X_prepared)\n",
    "    knn_scores.append(f1_score(y_train, y_pred, average='macro'))"
   ]
  },
  {
   "cell_type": "code",
   "execution_count": 27,
   "metadata": {},
   "outputs": [
    {
     "data": {
      "image/png": "[encoded data removed]",
      "text/plain": [
       "<Figure size 432x288 with 1 Axes>"
      ]
     },
     "metadata": {
      "needs_background": "light"
     },
     "output_type": "display_data"
    }
   ],
   "source": [
    "# plot the scores for each k\n",
    "plt.plot(range(1,21), knn_scores, color='red', marker='o', markersize='5')\n",
    "plt.title(\"KNN Model scores\")\n",
    "plt.xlabel(\"k\")\n",
    "plt.ylabel(\"score\")\n",
    "plt.show()"
   ]
  },
  {
   "cell_type": "markdown",
   "metadata": {},
   "source": [
    "The model did not work well on the training data even though the k value was changed. The line graph indicates that the more k value is, the less model's score is."
   ]
  },
  {
   "cell_type": "markdown",
   "metadata": {},
   "source": [
    "# Training Random Forest Model"
   ]
  },
  {
   "cell_type": "code",
   "execution_count": 28,
   "metadata": {},
   "outputs": [
    {
     "name": "stdout",
     "output_type": "stream",
     "text": [
      "              precision    recall  f1-score   support\n",
      "\n",
      "           0       1.00      1.00      1.00        40\n",
      "           1       1.00      1.00      1.00        36\n",
      "           2       1.00      1.00      1.00        38\n",
      "           3       1.00      1.00      1.00        25\n",
      "           4       1.00      1.00      1.00        41\n",
      "           5       1.00      1.00      1.00        39\n",
      "           6       1.00      1.00      1.00        37\n",
      "           7       1.00      1.00      1.00        36\n",
      "           8       1.00      1.00      1.00        34\n",
      "           9       1.00      1.00      1.00        34\n",
      "          10       1.00      1.00      1.00        46\n",
      "          11       1.00      1.00      1.00        42\n",
      "\n",
      "    accuracy                           1.00       448\n",
      "   macro avg       1.00      1.00      1.00       448\n",
      "weighted avg       1.00      1.00      1.00       448\n",
      "\n"
     ]
    }
   ],
   "source": [
    "# create a Random Forest model classifier\n",
    "RF_classifier = RandomForestClassifier()\n",
    "\n",
    "RF_classifier.fit(X_prepared, y_train)\n",
    "RF_train_predictions = RF_classifier.predict(X_prepared)\n",
    "print(classification_report(y_train, RF_train_predictions))"
   ]
  },
  {
   "cell_type": "markdown",
   "metadata": {},
   "source": [
    "It is clear that the model overfitted the training data. Therefore, the model was evaluated again by cross-validation."
   ]
  },
  {
   "cell_type": "code",
   "execution_count": 29,
   "metadata": {},
   "outputs": [
    {
     "name": "stdout",
     "output_type": "stream",
     "text": [
      "[0.09910053 0.04184071 0.07691383 0.06054131 0.08109668]\n"
     ]
    }
   ],
   "source": [
    "# predict training labels for training data using RF_classifier\n",
    "RF_cross_val_scores = cross_val_score(RF_classifier, X_prepared, y_train, scoring='f1_macro', cv=5)\n",
    "print(RF_cross_val_scores)"
   ]
  },
  {
   "cell_type": "code",
   "execution_count": 30,
   "metadata": {},
   "outputs": [
    {
     "data": {
      "text/plain": [
       "0.063005874"
      ]
     },
     "execution_count": 30,
     "metadata": {},
     "output_type": "execute_result"
    }
   ],
   "source": [
    "np.mean(np.array([0.09135531, 0.06609432, 0.04631486, 0.05505279, 0.05621209]))"
   ]
  },
  {
   "cell_type": "markdown",
   "metadata": {},
   "source": [
    "### Tuning Hyperparameters"
   ]
  },
  {
   "cell_type": "markdown",
   "metadata": {},
   "source": [
    "As the random forest have some interesting hyperparameters such as max depth or max_features that can be adjusted, the GridSearchCV is used to tune those hyperparameters."
   ]
  },
  {
   "cell_type": "code",
   "execution_count": 31,
   "metadata": {},
   "outputs": [
    {
     "name": "stdout",
     "output_type": "stream",
     "text": [
      "[31, 25, 35, 31, 33, 37, 29, 33, 36, 31, 31, 31, 33, 36, 33, 30, 31, 32, 39, 33, 32, 27, 31, 22, 27, 38, 29, 32, 26, 29, 35, 35, 37, 27, 37, 25, 29, 33, 27, 26, 32, 32, 27, 30, 28, 34, 28, 27, 35, 29, 33, 31, 33, 25, 35, 36, 33, 31, 27, 30, 38, 27, 38, 31, 27, 30, 30, 24, 33, 33, 31, 37, 38, 31, 35, 23, 29, 32, 35, 27, 28, 29, 34, 33, 29, 32, 29, 32, 41, 25, 31, 31, 29, 30, 34, 27, 30, 37, 27, 25]\n"
     ]
    }
   ],
   "source": [
    "# check each estimator's max_depth\n",
    "tree_max_depths = [estimator.tree_.max_depth for estimator in RF_classifier.estimators_]\n",
    "print(tree_max_depths)"
   ]
  },
  {
   "cell_type": "code",
   "execution_count": 32,
   "metadata": {},
   "outputs": [
    {
     "data": {
      "text/plain": [
       "GridSearchCV(cv=5, estimator=RandomForestClassifier(),\n",
       "             param_grid={'bootstrap': [False], 'max_depth': [5, 10, 15, 20],\n",
       "                         'max_features': ['auto', None],\n",
       "                         'min_samples_split': [100, 150, 200],\n",
       "                         'n_estimators': [100, 150, 200]})"
      ]
     },
     "execution_count": 32,
     "metadata": {},
     "output_type": "execute_result"
    }
   ],
   "source": [
    "from sklearn.model_selection import GridSearchCV\n",
    " \n",
    "params = {'max_depth': [5,10,15,20], \n",
    "         'n_estimators':[100, 150, 200], \n",
    "          'max_features': ['auto', None],\n",
    "          'bootstrap':[False],\n",
    "          'min_samples_split': [100, 150, 200]}\n",
    "grid_search = GridSearchCV(RF_classifier, params, cv=5)\n",
    "grid_search.fit(X_prepared, y_train)"
   ]
  },
  {
   "cell_type": "code",
   "execution_count": 33,
   "metadata": {},
   "outputs": [
    {
     "data": {
      "text/plain": [
       "{'bootstrap': False,\n",
       " 'max_depth': 10,\n",
       " 'max_features': 'auto',\n",
       " 'min_samples_split': 100,\n",
       " 'n_estimators': 100}"
      ]
     },
     "execution_count": 33,
     "metadata": {},
     "output_type": "execute_result"
    }
   ],
   "source": [
    "grid_search.best_params_"
   ]
  },
  {
   "cell_type": "code",
   "execution_count": 34,
   "metadata": {},
   "outputs": [
    {
     "data": {
      "text/plain": [
       "0.10941323345817729"
      ]
     },
     "execution_count": 34,
     "metadata": {},
     "output_type": "execute_result"
    }
   ],
   "source": [
    "grid_search.best_score_"
   ]
  },
  {
   "cell_type": "markdown",
   "metadata": {},
   "source": [
    "Even though the hyperparameters were changed to other values in GridSearchCV, the best score from the best parameters tried was only 10%. The Random Forest model is not good enough for sign prediction."
   ]
  },
  {
   "cell_type": "markdown",
   "metadata": {},
   "source": [
    "# Training Support Vector Machine Model"
   ]
  },
  {
   "cell_type": "code",
   "execution_count": 35,
   "metadata": {},
   "outputs": [],
   "source": [
    "SVM_classifier = SVC()\n",
    "\n",
    "SVM_classifier.fit(X_prepared, y_train)\n",
    "SVM_train_predictions = SVM_classifier.predict(X_prepared)"
   ]
  },
  {
   "cell_type": "code",
   "execution_count": 36,
   "metadata": {},
   "outputs": [
    {
     "name": "stdout",
     "output_type": "stream",
     "text": [
      "              precision    recall  f1-score   support\n",
      "\n",
      "           0       0.63      0.78      0.70        40\n",
      "           1       0.80      0.78      0.79        36\n",
      "           2       0.82      0.71      0.76        38\n",
      "           3       1.00      0.32      0.48        25\n",
      "           4       0.71      0.78      0.74        41\n",
      "           5       0.68      0.72      0.70        39\n",
      "           6       0.96      0.73      0.83        37\n",
      "           7       0.79      0.75      0.77        36\n",
      "           8       0.79      0.68      0.73        34\n",
      "           9       0.95      0.56      0.70        34\n",
      "          10       0.60      0.93      0.73        46\n",
      "          11       0.69      0.88      0.77        42\n",
      "\n",
      "    accuracy                           0.74       448\n",
      "   macro avg       0.79      0.72      0.73       448\n",
      "weighted avg       0.77      0.74      0.73       448\n",
      "\n"
     ]
    }
   ],
   "source": [
    "print(classification_report(y_train, SVM_train_predictions))"
   ]
  },
  {
   "cell_type": "code",
   "execution_count": 37,
   "metadata": {},
   "outputs": [
    {
     "name": "stdout",
     "output_type": "stream",
     "text": [
      "[0.08051693 0.08820346 0.01926692 0.08121831 0.0779107 ]\n"
     ]
    }
   ],
   "source": [
    "# cross-validation\n",
    "print(cross_val_score(SVM_classifier, X_prepared, y_train, scoring='f1_macro', cv=5))"
   ]
  },
  {
   "cell_type": "code",
   "execution_count": 38,
   "metadata": {},
   "outputs": [
    {
     "data": {
      "text/plain": [
       "0.069423264"
      ]
     },
     "execution_count": 38,
     "metadata": {},
     "output_type": "execute_result"
    }
   ],
   "source": [
    "np.mean(np.array([0.08051693, 0.08820346, 0.01926692, 0.08121831, 0.0779107]))"
   ]
  },
  {
   "cell_type": "markdown",
   "metadata": {},
   "source": [
    "When looking at the first 1000 rows Support Vector Machine model predicted at 74%. Let's see if it does the same for 60,000 rows. "
   ]
  },
  {
   "cell_type": "markdown",
   "metadata": {},
   "source": [
    "# Conclusion\n",
    "\n",
    "The three machine learning models cannot predict signs for users very well. For training data, K-Nearest Neighbors, Random Forest and SVM had f1-score at 33%, 100% (overfitting data) and 74% in turn. After testing on validation data via using cross-validation all the models cannot do better than guess which is around 8%."
   ]
  }
 ],
 "metadata": {
  "kernelspec": {
   "display_name": "Python 3 (ipykernel)",
   "language": "python",
   "name": "python3"
  },
  "language_info": {
   "codemirror_mode": {
    "name": "ipython",
    "version": 3
   },
   "file_extension": ".py",
   "mimetype": "text/x-python",
   "name": "python",
   "nbconvert_exporter": "python",
   "pygments_lexer": "ipython3",
   "version": "3.9.7"
  }
 },
 "nbformat": 4,
 "nbformat_minor": 4
}
