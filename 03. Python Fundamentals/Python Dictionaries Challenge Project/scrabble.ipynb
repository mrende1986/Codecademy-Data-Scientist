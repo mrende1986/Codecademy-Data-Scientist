{
 "cells": [
  {
   "cell_type": "code",
   "execution_count": 1,
   "id": "ad789f8f",
   "metadata": {},
   "outputs": [
    {
     "name": "stdout",
     "output_type": "stream",
     "text": [
      "{'A': 1, 'B': 3, 'C': 3, 'D': 2, 'E': 1, 'F': 4, 'G': 2, 'H': 4, 'I': 1, 'J': 8, 'K': 5, 'L': 1, 'M': 3, 'N': 4, 'O': 1, 'P': 3, 'Q': 10, 'R': 1, 'S': 1, 'T': 1, 'U': 1, 'V': 4, 'W': 4, 'X': 8, 'Y': 4, 'Z': 10, ' ': 0}\n"
     ]
    }
   ],
   "source": [
    "letters = [\"A\", \"B\", \"C\", \"D\", \"E\", \"F\", \"G\", \"H\", \"I\", \"J\", \"K\", \"L\", \"M\", \"N\", \"O\", \"P\", \"Q\", \"R\", \"S\", \"T\", \"U\", \"V\", \"W\", \"X\", \"Y\", \"Z\"]\n",
    "points = [1, 3, 3, 2, 1, 4, 2, 4, 1, 8, 5, 1, 3, 4, 1, 3, 10, 1, 1, 1, 1, 4, 4, 8, 4, 10]\n",
    "\n",
    "letter_to_points = {letter:points for letter, points in zip(letters,points)}\n",
    "letter_to_points[\" \"] = 0\n",
    "print(letter_to_points)"
   ]
  },
  {
   "cell_type": "code",
   "execution_count": 3,
   "id": "0439e2b1",
   "metadata": {},
   "outputs": [
    {
     "name": "stdout",
     "output_type": "stream",
     "text": [
      "15\n"
     ]
    }
   ],
   "source": [
    "def score_word(word):\n",
    "  point_total = 0\n",
    "  for letter in word:\n",
    "    point_total += letter_to_points.get(letter,0)\n",
    "  return point_total\n",
    "\n",
    "brownie_points = score_word(\"BROWNIE\")\n",
    "print(brownie_points)"
   ]
  },
  {
   "cell_type": "code",
   "execution_count": 4,
   "id": "a6b98715",
   "metadata": {},
   "outputs": [
    {
     "name": "stdout",
     "output_type": "stream",
     "text": [
      "{'player1': 29, 'wordNerd': 32, 'Lexi Con': 31, 'Prof Reader': 31}\n"
     ]
    }
   ],
   "source": [
    "player_to_words = {\n",
    "  \"player1\" : ['BLUE', 'TENNIS', 'EXIT'],\n",
    "  \"wordNerd\" : ['EARTH', 'EYES', 'MACHINE'],\n",
    "  \"Lexi Con\" : ['ERASER', 'BELLY', 'HUSKY'],\n",
    "  \"Prof Reader\" : ['ZAP', 'COMA', 'PERIOD']\n",
    "}\n",
    "\n",
    "player_to_points = {}\n",
    "for player, words in player_to_words.items():\n",
    "  player_points = 0\n",
    "  for word in words:\n",
    "    player_points += score_word(word)\n",
    "  player_to_points[player] = player_points\n",
    "\n",
    "\n",
    "print(player_to_points)"
   ]
  }
 ],
 "metadata": {
  "kernelspec": {
   "display_name": "Python 3 (ipykernel)",
   "language": "python",
   "name": "python3"
  },
  "language_info": {
   "codemirror_mode": {
    "name": "ipython",
    "version": 3
   },
   "file_extension": ".py",
   "mimetype": "text/x-python",
   "name": "python",
   "nbconvert_exporter": "python",
   "pygments_lexer": "ipython3",
   "version": "3.9.7"
  }
 },
 "nbformat": 4,
 "nbformat_minor": 5
}
